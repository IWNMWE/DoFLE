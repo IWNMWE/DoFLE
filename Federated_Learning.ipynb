{
  "cells": [
    {
      "cell_type": "code",
      "execution_count": 1,
      "metadata": {
        "colab": {
          "base_uri": "https://localhost:8080/"
        },
        "id": "IsdzjGPzoAjk",
        "outputId": "3b0e68cc-a199-4517-fad9-e55d521486f1"
      },
      "outputs": [
        {
          "name": "stdout",
          "output_type": "stream",
          "text": [
            "Train Images Shape: torch.Size([60000, 28, 28])\n",
            "Train Labels Shape: torch.Size([60000])\n",
            "Test Images Shape: torch.Size([10000, 28, 28])\n",
            "Test Labels Shape: torch.Size([10000])\n"
          ]
        }
      ],
      "source": [
        "import torchvision.datasets as datasets\n",
        "\n",
        "# Load MNIST dataset\n",
        "train_dataset = datasets.MNIST(root='data/', train=True, download=True)\n",
        "test_dataset = datasets.MNIST(root='data/', train=False, download=True)\n",
        "\n",
        "# Split dataset into test and train\n",
        "train_images = train_dataset.data\n",
        "train_labels = train_dataset.targets\n",
        "test_images = test_dataset.data\n",
        "test_labels = test_dataset.targets\n",
        "\n",
        "# Print shape of the datasets\n",
        "print(\"Train Images Shape:\", train_images.shape)\n",
        "print(\"Train Labels Shape:\", train_labels.shape)\n",
        "print(\"Test Images Shape:\", test_images.shape)\n",
        "print(\"Test Labels Shape:\", test_labels.shape)"
      ]
    },
    {
      "cell_type": "code",
      "execution_count": 2,
      "metadata": {
        "colab": {
          "base_uri": "https://localhost:8080/"
        },
        "id": "nePKZLqitVvn",
        "outputId": "2c78c8c4-dc7f-4739-ce40-bd577369751e"
      },
      "outputs": [
        {
          "name": "stdout",
          "output_type": "stream",
          "text": [
            "Requirement already satisfied: torch in /usr/local/lib/python3.10/dist-packages (2.0.1+cu118)\n",
            "Requirement already satisfied: filelock in /usr/local/lib/python3.10/dist-packages (from torch) (3.12.2)\n",
            "Requirement already satisfied: typing-extensions in /usr/local/lib/python3.10/dist-packages (from torch) (4.6.3)\n",
            "Requirement already satisfied: sympy in /usr/local/lib/python3.10/dist-packages (from torch) (1.11.1)\n",
            "Requirement already satisfied: networkx in /usr/local/lib/python3.10/dist-packages (from torch) (3.1)\n",
            "Requirement already satisfied: jinja2 in /usr/local/lib/python3.10/dist-packages (from torch) (3.1.2)\n",
            "Requirement already satisfied: triton==2.0.0 in /usr/local/lib/python3.10/dist-packages (from torch) (2.0.0)\n",
            "Requirement already satisfied: cmake in /usr/local/lib/python3.10/dist-packages (from triton==2.0.0->torch) (3.25.2)\n",
            "Requirement already satisfied: lit in /usr/local/lib/python3.10/dist-packages (from triton==2.0.0->torch) (16.0.6)\n",
            "Requirement already satisfied: MarkupSafe>=2.0 in /usr/local/lib/python3.10/dist-packages (from jinja2->torch) (2.1.3)\n",
            "Requirement already satisfied: mpmath>=0.19 in /usr/local/lib/python3.10/dist-packages (from sympy->torch) (1.3.0)\n"
          ]
        }
      ],
      "source": [
        "!pip install torch"
      ]
    },
    {
      "cell_type": "code",
      "execution_count": 3,
      "metadata": {
        "colab": {
          "base_uri": "https://localhost:8080/"
        },
        "id": "H7XgioOJtlZS",
        "outputId": "3e5ee903-265c-4d79-d773-2e576944f83e"
      },
      "outputs": [
        {
          "name": "stdout",
          "output_type": "stream",
          "text": [
            "Requirement already satisfied: tensorflow in /usr/local/lib/python3.10/dist-packages (2.12.0)\n",
            "Requirement already satisfied: absl-py>=1.0.0 in /usr/local/lib/python3.10/dist-packages (from tensorflow) (1.4.0)\n",
            "Requirement already satisfied: astunparse>=1.6.0 in /usr/local/lib/python3.10/dist-packages (from tensorflow) (1.6.3)\n",
            "Requirement already satisfied: flatbuffers>=2.0 in /usr/local/lib/python3.10/dist-packages (from tensorflow) (23.5.26)\n",
            "Requirement already satisfied: gast<=0.4.0,>=0.2.1 in /usr/local/lib/python3.10/dist-packages (from tensorflow) (0.4.0)\n",
            "Requirement already satisfied: google-pasta>=0.1.1 in /usr/local/lib/python3.10/dist-packages (from tensorflow) (0.2.0)\n",
            "Requirement already satisfied: grpcio<2.0,>=1.24.3 in /usr/local/lib/python3.10/dist-packages (from tensorflow) (1.56.0)\n",
            "Requirement already satisfied: h5py>=2.9.0 in /usr/local/lib/python3.10/dist-packages (from tensorflow) (3.8.0)\n",
            "Requirement already satisfied: jax>=0.3.15 in /usr/local/lib/python3.10/dist-packages (from tensorflow) (0.4.10)\n",
            "Requirement already satisfied: keras<2.13,>=2.12.0 in /usr/local/lib/python3.10/dist-packages (from tensorflow) (2.12.0)\n",
            "Requirement already satisfied: libclang>=13.0.0 in /usr/local/lib/python3.10/dist-packages (from tensorflow) (16.0.0)\n",
            "Requirement already satisfied: numpy<1.24,>=1.22 in /usr/local/lib/python3.10/dist-packages (from tensorflow) (1.22.4)\n",
            "Requirement already satisfied: opt-einsum>=2.3.2 in /usr/local/lib/python3.10/dist-packages (from tensorflow) (3.3.0)\n",
            "Requirement already satisfied: packaging in /usr/local/lib/python3.10/dist-packages (from tensorflow) (23.1)\n",
            "Requirement already satisfied: protobuf!=4.21.0,!=4.21.1,!=4.21.2,!=4.21.3,!=4.21.4,!=4.21.5,<5.0.0dev,>=3.20.3 in /usr/local/lib/python3.10/dist-packages (from tensorflow) (3.20.3)\n",
            "Requirement already satisfied: setuptools in /usr/local/lib/python3.10/dist-packages (from tensorflow) (67.7.2)\n",
            "Requirement already satisfied: six>=1.12.0 in /usr/local/lib/python3.10/dist-packages (from tensorflow) (1.16.0)\n",
            "Requirement already satisfied: tensorboard<2.13,>=2.12 in /usr/local/lib/python3.10/dist-packages (from tensorflow) (2.12.3)\n",
            "Requirement already satisfied: tensorflow-estimator<2.13,>=2.12.0 in /usr/local/lib/python3.10/dist-packages (from tensorflow) (2.12.0)\n",
            "Requirement already satisfied: termcolor>=1.1.0 in /usr/local/lib/python3.10/dist-packages (from tensorflow) (2.3.0)\n",
            "Requirement already satisfied: typing-extensions>=3.6.6 in /usr/local/lib/python3.10/dist-packages (from tensorflow) (4.6.3)\n",
            "Requirement already satisfied: wrapt<1.15,>=1.11.0 in /usr/local/lib/python3.10/dist-packages (from tensorflow) (1.14.1)\n",
            "Requirement already satisfied: tensorflow-io-gcs-filesystem>=0.23.1 in /usr/local/lib/python3.10/dist-packages (from tensorflow) (0.32.0)\n",
            "Requirement already satisfied: wheel<1.0,>=0.23.0 in /usr/local/lib/python3.10/dist-packages (from astunparse>=1.6.0->tensorflow) (0.40.0)\n",
            "Requirement already satisfied: ml-dtypes>=0.1.0 in /usr/local/lib/python3.10/dist-packages (from jax>=0.3.15->tensorflow) (0.2.0)\n",
            "Requirement already satisfied: scipy>=1.7 in /usr/local/lib/python3.10/dist-packages (from jax>=0.3.15->tensorflow) (1.10.1)\n",
            "Requirement already satisfied: google-auth<3,>=1.6.3 in /usr/local/lib/python3.10/dist-packages (from tensorboard<2.13,>=2.12->tensorflow) (2.17.3)\n",
            "Requirement already satisfied: google-auth-oauthlib<1.1,>=0.5 in /usr/local/lib/python3.10/dist-packages (from tensorboard<2.13,>=2.12->tensorflow) (1.0.0)\n",
            "Requirement already satisfied: markdown>=2.6.8 in /usr/local/lib/python3.10/dist-packages (from tensorboard<2.13,>=2.12->tensorflow) (3.4.3)\n",
            "Requirement already satisfied: requests<3,>=2.21.0 in /usr/local/lib/python3.10/dist-packages (from tensorboard<2.13,>=2.12->tensorflow) (2.27.1)\n",
            "Requirement already satisfied: tensorboard-data-server<0.8.0,>=0.7.0 in /usr/local/lib/python3.10/dist-packages (from tensorboard<2.13,>=2.12->tensorflow) (0.7.1)\n",
            "Requirement already satisfied: werkzeug>=1.0.1 in /usr/local/lib/python3.10/dist-packages (from tensorboard<2.13,>=2.12->tensorflow) (2.3.6)\n",
            "Requirement already satisfied: cachetools<6.0,>=2.0.0 in /usr/local/lib/python3.10/dist-packages (from google-auth<3,>=1.6.3->tensorboard<2.13,>=2.12->tensorflow) (5.3.1)\n",
            "Requirement already satisfied: pyasn1-modules>=0.2.1 in /usr/local/lib/python3.10/dist-packages (from google-auth<3,>=1.6.3->tensorboard<2.13,>=2.12->tensorflow) (0.3.0)\n",
            "Requirement already satisfied: rsa<5,>=3.1.4 in /usr/local/lib/python3.10/dist-packages (from google-auth<3,>=1.6.3->tensorboard<2.13,>=2.12->tensorflow) (4.9)\n",
            "Requirement already satisfied: requests-oauthlib>=0.7.0 in /usr/local/lib/python3.10/dist-packages (from google-auth-oauthlib<1.1,>=0.5->tensorboard<2.13,>=2.12->tensorflow) (1.3.1)\n",
            "Requirement already satisfied: urllib3<1.27,>=1.21.1 in /usr/local/lib/python3.10/dist-packages (from requests<3,>=2.21.0->tensorboard<2.13,>=2.12->tensorflow) (1.26.16)\n",
            "Requirement already satisfied: certifi>=2017.4.17 in /usr/local/lib/python3.10/dist-packages (from requests<3,>=2.21.0->tensorboard<2.13,>=2.12->tensorflow) (2023.5.7)\n",
            "Requirement already satisfied: charset-normalizer~=2.0.0 in /usr/local/lib/python3.10/dist-packages (from requests<3,>=2.21.0->tensorboard<2.13,>=2.12->tensorflow) (2.0.12)\n",
            "Requirement already satisfied: idna<4,>=2.5 in /usr/local/lib/python3.10/dist-packages (from requests<3,>=2.21.0->tensorboard<2.13,>=2.12->tensorflow) (3.4)\n",
            "Requirement already satisfied: MarkupSafe>=2.1.1 in /usr/local/lib/python3.10/dist-packages (from werkzeug>=1.0.1->tensorboard<2.13,>=2.12->tensorflow) (2.1.3)\n",
            "Requirement already satisfied: pyasn1<0.6.0,>=0.4.6 in /usr/local/lib/python3.10/dist-packages (from pyasn1-modules>=0.2.1->google-auth<3,>=1.6.3->tensorboard<2.13,>=2.12->tensorflow) (0.5.0)\n",
            "Requirement already satisfied: oauthlib>=3.0.0 in /usr/local/lib/python3.10/dist-packages (from requests-oauthlib>=0.7.0->google-auth-oauthlib<1.1,>=0.5->tensorboard<2.13,>=2.12->tensorflow) (3.2.2)\n"
          ]
        }
      ],
      "source": [
        "!pip install tensorflow\n",
        "import tensorflow as tf"
      ]
    },
    {
      "cell_type": "code",
      "execution_count": 4,
      "metadata": {
        "id": "w4aTHmTcAIlr"
      },
      "outputs": [],
      "source": [
        "train_images = tf.convert_to_tensor(train_images.numpy(), dtype=tf.float32)\n",
        "train_labels = tf.convert_to_tensor(train_labels.numpy(), dtype=tf.int32)"
      ]
    },
    {
      "cell_type": "markdown",
      "metadata": {
        "id": "P--DgEcm8dNw"
      },
      "source": [
        "# Equal division of data"
      ]
    },
    {
      "cell_type": "code",
      "execution_count": 5,
      "metadata": {
        "id": "mfCj_eSgpv-t"
      },
      "outputs": [],
      "source": [
        "# Split it into groups of 4 because 60000 divvides evenly among 4 groups\n",
        "split_images = tf.split(train_images, 4, axis=0)\n",
        "split_labels = tf.split(train_labels, 4, axis=0)"
      ]
    },
    {
      "cell_type": "code",
      "execution_count": 6,
      "metadata": {
        "id": "oTa6grBauOiT"
      },
      "outputs": [],
      "source": [
        "import torchvision.transforms as transforms\n",
        "import matplotlib.pyplot as plt"
      ]
    },
    {
      "cell_type": "code",
      "execution_count": 7,
      "metadata": {
        "colab": {
          "base_uri": "https://localhost:8080/",
          "height": 1000
        },
        "id": "bL8gWx4Strdr",
        "outputId": "80bf9f9a-01c4-4832-b1a8-9c0442e5d56e"
      },
      "outputs": [
        {
          "name": "stdout",
          "output_type": "stream",
          "text": [
            "Group 1 - Images: (15000, 28, 28), Labels: (15000,)\n"
          ]
        },
        {
          "data": {
            "image/png": "[encoded data removed]",
            "text/plain": [
              "<Figure size 1200x300 with 4 Axes>"
            ]
          },
          "metadata": {},
          "output_type": "display_data"
        },
        {
          "name": "stdout",
          "output_type": "stream",
          "text": [
            "Group 2 - Images: (15000, 28, 28), Labels: (15000,)\n"
          ]
        },
        {
          "data": {
            "image/png": "[encoded data removed]",
            "text/plain": [
              "<Figure size 1200x300 with 4 Axes>"
            ]
          },
          "metadata": {},
          "output_type": "display_data"
        },
        {
          "name": "stdout",
          "output_type": "stream",
          "text": [
            "Group 3 - Images: (15000, 28, 28), Labels: (15000,)\n"
          ]
        },
        {
          "data": {
            "image/png": "[encoded data removed]",
            "text/plain": [
              "<Figure size 1200x300 with 4 Axes>"
            ]
          },
          "metadata": {},
          "output_type": "display_data"
        },
        {
          "name": "stdout",
          "output_type": "stream",
          "text": [
            "Group 4 - Images: (15000, 28, 28), Labels: (15000,)\n"
          ]
        },
        {
          "data": {
            "image/png": "[encoded data removed]",
            "text/plain": [
              "<Figure size 1200x300 with 4 Axes>"
            ]
          },
          "metadata": {},
          "output_type": "display_data"
        }
      ],
      "source": [
        "for i in range(len(split_images)):\n",
        "    print(f\"Group {i+1} - Images: {split_images[i].shape}, Labels: {split_labels[i].shape}\")\n",
        "    fig, axs = plt.subplots(1, 4, figsize=(12, 3))\n",
        "    for j in range(4):\n",
        "        img = split_images[i][j]\n",
        "        label = split_labels[i][j]\n",
        "        axs[j].imshow(img, cmap='gray')\n",
        "        axs[j].set_title(f\"Label: {label}\")\n",
        "        axs[j].axis('off')\n",
        "    plt.show()"
      ]
    },
    {
      "cell_type": "code",
      "execution_count": 8,
      "metadata": {
        "id": "TSUQlVztwmBO"
      },
      "outputs": [],
      "source": [
        "# our model architecture\n",
        "model = tf.keras.Sequential([\n",
        "    tf.keras.layers.Flatten(input_shape=(28, 28)),\n",
        "    tf.keras.layers.Dense(128, activation='relu'),\n",
        "    tf.keras.layers.Dense(10, activation='softmax')\n",
        "])"
      ]
    },
    {
      "cell_type": "code",
      "execution_count": 9,
      "metadata": {
        "id": "SlXk_dD4w77l"
      },
      "outputs": [],
      "source": [
        "import numpy as np"
      ]
    },
    {
      "cell_type": "markdown",
      "metadata": {
        "id": "Vmc49ZE37xkQ"
      },
      "source": [
        "## Random Seeding"
      ]
    },
    {
      "cell_type": "code",
      "execution_count": 10,
      "metadata": {
        "colab": {
          "base_uri": "https://localhost:8080/"
        },
        "id": "s4setRtYwzgd",
        "outputId": "785b049f-a484-4bb5-d464-2343217155c6"
      },
      "outputs": [
        {
          "name": "stdout",
          "output_type": "stream",
          "text": [
            "Training model for Group 1\n",
            "Epoch 1/5\n",
            "469/469 [==============================] - 4s 6ms/step - loss: 7.7381 - accuracy: 0.8228\n",
            "Epoch 2/5\n",
            "469/469 [==============================] - 3s 7ms/step - loss: 1.2273 - accuracy: 0.9033\n",
            "Epoch 3/5\n",
            "469/469 [==============================] - 4s 9ms/step - loss: 0.5967 - accuracy: 0.9211\n",
            "Epoch 4/5\n",
            "469/469 [==============================] - 4s 8ms/step - loss: 0.3801 - accuracy: 0.9383\n",
            "Epoch 5/5\n",
            "469/469 [==============================] - 5s 11ms/step - loss: 0.2408 - accuracy: 0.9524\n",
            "Training model for Group 2\n",
            "Epoch 1/5\n",
            "469/469 [==============================] - 6s 8ms/step - loss: 0.7315 - accuracy: 0.8850\n",
            "Epoch 2/5\n",
            "469/469 [==============================] - 4s 8ms/step - loss: 0.3746 - accuracy: 0.9131\n",
            "Epoch 3/5\n",
            "469/469 [==============================] - 5s 10ms/step - loss: 0.2842 - accuracy: 0.9338\n",
            "Epoch 4/5\n",
            "469/469 [==============================] - 2s 4ms/step - loss: 0.2291 - accuracy: 0.9406\n",
            "Epoch 5/5\n",
            "469/469 [==============================] - 2s 4ms/step - loss: 0.2077 - accuracy: 0.9451\n",
            "Training model for Group 3\n",
            "Epoch 1/5\n",
            "469/469 [==============================] - 3s 4ms/step - loss: 0.4495 - accuracy: 0.9191\n",
            "Epoch 2/5\n",
            "469/469 [==============================] - 2s 4ms/step - loss: 0.3018 - accuracy: 0.9330\n",
            "Epoch 3/5\n",
            "469/469 [==============================] - 3s 6ms/step - loss: 0.2304 - accuracy: 0.9427\n",
            "Epoch 4/5\n",
            "469/469 [==============================] - 2s 5ms/step - loss: 0.2039 - accuracy: 0.9482\n",
            "Epoch 5/5\n",
            "469/469 [==============================] - 2s 4ms/step - loss: 0.1792 - accuracy: 0.9539\n",
            "Training model for Group 4\n",
            "Epoch 1/5\n",
            "469/469 [==============================] - 3s 4ms/step - loss: 0.3655 - accuracy: 0.9317\n",
            "Epoch 2/5\n",
            "469/469 [==============================] - 2s 4ms/step - loss: 0.2435 - accuracy: 0.9427\n",
            "Epoch 3/5\n",
            "469/469 [==============================] - 2s 4ms/step - loss: 0.1986 - accuracy: 0.9504\n",
            "Epoch 4/5\n",
            "469/469 [==============================] - 2s 4ms/step - loss: 0.1716 - accuracy: 0.9546\n",
            "Epoch 5/5\n",
            "469/469 [==============================] - 3s 7ms/step - loss: 0.1767 - accuracy: 0.9561\n"
          ]
        }
      ],
      "source": [
        "trained_models = []\n",
        "for i in range(len(split_images)):\n",
        "    print(f\"Training model for Group {i+1}\")\n",
        "    seed = np.random.randint(0, 1000)\n",
        "    tf.random.set_seed(seed)\n",
        "    model.compile(loss='sparse_categorical_crossentropy', optimizer='adam', metrics=['accuracy'])\n",
        "    model.fit(split_images[i], split_labels[i], epochs=5, batch_size=32, verbose=1)\n",
        "    trained_models.append(model)"
      ]
    },
    {
      "cell_type": "code",
      "execution_count": 11,
      "metadata": {
        "id": "3LjcR1D55xfZ"
      },
      "outputs": [],
      "source": [
        "averaged_weights = []\n",
        "for layer_weights in zip(*[model.get_weights() for model in trained_models]):\n",
        "    averaged_weights.append(np.mean(layer_weights, axis=0))"
      ]
    },
    {
      "cell_type": "code",
      "execution_count": 12,
      "metadata": {
        "id": "hbt9GAcx51QM"
      },
      "outputs": [],
      "source": [
        "model.set_weights(averaged_weights)"
      ]
    },
    {
      "cell_type": "code",
      "execution_count": 13,
      "metadata": {
        "id": "kDhVO16L6d-n"
      },
      "outputs": [],
      "source": [
        "test_images = tf.convert_to_tensor(test_images.numpy(), dtype=tf.float32)\n",
        "test_labels = tf.convert_to_tensor(test_labels.numpy(), dtype=tf.int32)"
      ]
    },
    {
      "cell_type": "code",
      "execution_count": 14,
      "metadata": {
        "colab": {
          "base_uri": "https://localhost:8080/"
        },
        "id": "u-dSPyxN52f1",
        "outputId": "4cc69a96-a29c-4f44-da90-8afe27c70efb"
      },
      "outputs": [
        {
          "name": "stdout",
          "output_type": "stream",
          "text": [
            "Evaluating the averaged model\n",
            "313/313 [==============================] - 1s 3ms/step - loss: 0.4302 - accuracy: 0.9316\n",
            "Loss: 0.4301724135875702, Accuracy: 0.9315999746322632\n"
          ]
        }
      ],
      "source": [
        "print(\"Evaluating the averaged model\")\n",
        "evaluation = model.evaluate(test_images, test_labels, verbose=1)\n",
        "print(f\"Loss: {evaluation[0]}, Accuracy: {evaluation[1]}\")"
      ]
    },
    {
      "cell_type": "markdown",
      "metadata": {
        "id": "ruv59tWw7nnX"
      },
      "source": [
        "## Shared Seeding\n"
      ]
    },
    {
      "cell_type": "code",
      "execution_count": 15,
      "metadata": {
        "id": "Bari-kds0RrE"
      },
      "outputs": [],
      "source": [
        "seed = np.random.randint(0, 1000)\n",
        "tf.random.set_seed(seed)"
      ]
    },
    {
      "cell_type": "code",
      "execution_count": 16,
      "metadata": {
        "colab": {
          "base_uri": "https://localhost:8080/"
        },
        "id": "3jHZySUa0VRO",
        "outputId": "2d38e6fd-063f-483f-e99b-d19e5484072a"
      },
      "outputs": [
        {
          "name": "stdout",
          "output_type": "stream",
          "text": [
            "Training model for Group 1\n",
            "Epoch 1/5\n",
            "469/469 [==============================] - 3s 5ms/step - loss: 0.3755 - accuracy: 0.9360\n",
            "Epoch 2/5\n",
            "469/469 [==============================] - 2s 4ms/step - loss: 0.2476 - accuracy: 0.9479\n",
            "Epoch 3/5\n",
            "469/469 [==============================] - 2s 4ms/step - loss: 0.2073 - accuracy: 0.9534\n",
            "Epoch 4/5\n",
            "469/469 [==============================] - 3s 7ms/step - loss: 0.1830 - accuracy: 0.9565\n",
            "Epoch 5/5\n",
            "469/469 [==============================] - 2s 4ms/step - loss: 0.1599 - accuracy: 0.9582\n",
            "Training model for Group 2\n",
            "Epoch 1/5\n",
            "469/469 [==============================] - 4s 6ms/step - loss: 0.3318 - accuracy: 0.9416\n",
            "Epoch 2/5\n",
            "469/469 [==============================] - 2s 4ms/step - loss: 0.2310 - accuracy: 0.9494\n",
            "Epoch 3/5\n",
            "469/469 [==============================] - 2s 4ms/step - loss: 0.1771 - accuracy: 0.9575\n",
            "Epoch 4/5\n",
            "469/469 [==============================] - 2s 4ms/step - loss: 0.1556 - accuracy: 0.9591\n",
            "Epoch 5/5\n",
            "469/469 [==============================] - 2s 4ms/step - loss: 0.1521 - accuracy: 0.9633\n",
            "Training model for Group 3\n",
            "Epoch 1/5\n",
            "469/469 [==============================] - 4s 6ms/step - loss: 0.3575 - accuracy: 0.9406\n",
            "Epoch 2/5\n",
            "469/469 [==============================] - 2s 5ms/step - loss: 0.2239 - accuracy: 0.9511\n",
            "Epoch 3/5\n",
            "469/469 [==============================] - 2s 4ms/step - loss: 0.1771 - accuracy: 0.9595\n",
            "Epoch 4/5\n",
            "469/469 [==============================] - 2s 4ms/step - loss: 0.1649 - accuracy: 0.9597\n",
            "Epoch 5/5\n",
            "469/469 [==============================] - 2s 4ms/step - loss: 0.1772 - accuracy: 0.9589\n",
            "Training model for Group 4\n",
            "Epoch 1/5\n",
            "469/469 [==============================] - 3s 4ms/step - loss: 0.2991 - accuracy: 0.9459\n",
            "Epoch 2/5\n",
            "469/469 [==============================] - 4s 8ms/step - loss: 0.1910 - accuracy: 0.9569\n",
            "Epoch 3/5\n",
            "469/469 [==============================] - 2s 4ms/step - loss: 0.1876 - accuracy: 0.9585\n",
            "Epoch 4/5\n",
            "469/469 [==============================] - 2s 4ms/step - loss: 0.1621 - accuracy: 0.9613\n",
            "Epoch 5/5\n",
            "469/469 [==============================] - 2s 4ms/step - loss: 0.1424 - accuracy: 0.9637\n"
          ]
        }
      ],
      "source": [
        "trained_models = []\n",
        "for i in range(len(split_images)):\n",
        "    print(f\"Training model for Group {i+1}\")\n",
        "    model.compile(loss='sparse_categorical_crossentropy', optimizer='adam', metrics=['accuracy'])\n",
        "    model.fit(split_images[i], split_labels[i], epochs=5, batch_size=32, verbose=1)\n",
        "    trained_models.append(model)"
      ]
    },
    {
      "cell_type": "code",
      "execution_count": 17,
      "metadata": {
        "id": "1SaQZl2z5Pl1"
      },
      "outputs": [],
      "source": [
        "averaged_weights = []\n",
        "for layer_weights in zip(*[model.get_weights() for model in trained_models]):\n",
        "    averaged_weights.append(np.mean(layer_weights, axis=0))"
      ]
    },
    {
      "cell_type": "code",
      "execution_count": 18,
      "metadata": {
        "id": "9i1pn2h15VqO"
      },
      "outputs": [],
      "source": [
        "model.set_weights(averaged_weights)"
      ]
    },
    {
      "cell_type": "code",
      "execution_count": 19,
      "metadata": {
        "colab": {
          "base_uri": "https://localhost:8080/"
        },
        "id": "rHm_D8Qd5Zcq",
        "outputId": "c11ddc8d-0114-44f6-8c7c-57fc7246116d"
      },
      "outputs": [
        {
          "name": "stdout",
          "output_type": "stream",
          "text": [
            "Evaluating the averaged model\n",
            "313/313 [==============================] - 1s 2ms/step - loss: 0.4066 - accuracy: 0.9456\n",
            "Loss: 0.4066128730773926, Accuracy: 0.9455999732017517\n"
          ]
        }
      ],
      "source": [
        "print(\"Evaluating the averaged model\")\n",
        "evaluation = model.evaluate(test_images, test_labels, verbose=1)\n",
        "print(f\"Loss: {evaluation[0]}, Accuracy: {evaluation[1]}\")"
      ]
    },
    {
      "cell_type": "markdown",
      "metadata": {
        "id": "KhbI_ggZ8lz9"
      },
      "source": [
        "# Unequal Division of Data"
      ]
    },
    {
      "cell_type": "code",
      "execution_count": 20,
      "metadata": {
        "id": "ew_7_skf8oLz"
      },
      "outputs": [],
      "source": [
        "increments = [5000, 10000, 15000, 20000]\n",
        "split_images = []\n",
        "split_labels = []\n",
        "for i, increment in enumerate(increments):\n",
        "    if i == 0:\n",
        "        split_images.append(train_images[:increment])\n",
        "        split_labels.append(train_labels[:increment])\n",
        "    else:\n",
        "        split_images.append(tf.concat([split_images[i-1], train_images[increments[i-1]:increment]], axis=0))\n",
        "        split_labels.append(tf.concat([split_labels[i-1], train_labels[increments[i-1]:increment]], axis=0))"
      ]
    },
    {
      "cell_type": "code",
      "execution_count": 21,
      "metadata": {
        "colab": {
          "base_uri": "https://localhost:8080/"
        },
        "id": "NZOHh-2k-O4A",
        "outputId": "6df4ee2f-3690-496d-a49d-747d42c12c3a"
      },
      "outputs": [
        {
          "name": "stdout",
          "output_type": "stream",
          "text": [
            "Group 1 - Images: (5000, 28, 28), Labels: (5000,)\n",
            "Group 2 - Images: (10000, 28, 28), Labels: (10000,)\n",
            "Group 3 - Images: (15000, 28, 28), Labels: (15000,)\n",
            "Group 4 - Images: (20000, 28, 28), Labels: (20000,)\n"
          ]
        }
      ],
      "source": [
        "for i in range(len(split_images)):\n",
        "    print(f\"Group {i+1} - Images: {split_images[i].shape}, Labels: {split_labels[i].shape}\")"
      ]
    },
    {
      "cell_type": "markdown",
      "metadata": {
        "id": "gchKOLJR9TBp"
      },
      "source": [
        "## Random Seeding"
      ]
    },
    {
      "cell_type": "code",
      "execution_count": 22,
      "metadata": {
        "colab": {
          "base_uri": "https://localhost:8080/"
        },
        "id": "N-zDjeRG9SJG",
        "outputId": "9945fd67-cff0-4f29-d262-3cc5e0be9858"
      },
      "outputs": [
        {
          "name": "stdout",
          "output_type": "stream",
          "text": [
            "Training model for Group 1\n",
            "Epoch 1/5\n",
            "157/157 [==============================] - 1s 4ms/step - loss: 0.3570 - accuracy: 0.9488\n",
            "Epoch 2/5\n",
            "157/157 [==============================] - 1s 4ms/step - loss: 0.1812 - accuracy: 0.9622\n",
            "Epoch 3/5\n",
            "157/157 [==============================] - 1s 5ms/step - loss: 0.1292 - accuracy: 0.9682\n",
            "Epoch 4/5\n",
            "157/157 [==============================] - 1s 4ms/step - loss: 0.1185 - accuracy: 0.9708\n",
            "Epoch 5/5\n",
            "157/157 [==============================] - 1s 4ms/step - loss: 0.1148 - accuracy: 0.9720\n",
            "Training model for Group 2\n",
            "Epoch 1/5\n",
            "313/313 [==============================] - 3s 6ms/step - loss: 0.3067 - accuracy: 0.9560\n",
            "Epoch 2/5\n",
            "313/313 [==============================] - 2s 6ms/step - loss: 0.1669 - accuracy: 0.9622\n",
            "Epoch 3/5\n",
            "313/313 [==============================] - 1s 4ms/step - loss: 0.1233 - accuracy: 0.9693\n",
            "Epoch 4/5\n",
            "313/313 [==============================] - 1s 4ms/step - loss: 0.1070 - accuracy: 0.9709\n",
            "Epoch 5/5\n",
            "313/313 [==============================] - 1s 4ms/step - loss: 0.1595 - accuracy: 0.9689\n",
            "Training model for Group 3\n",
            "Epoch 1/5\n",
            "469/469 [==============================] - 3s 4ms/step - loss: 0.2960 - accuracy: 0.9579\n",
            "Epoch 2/5\n",
            "469/469 [==============================] - 2s 4ms/step - loss: 0.1936 - accuracy: 0.9628\n",
            "Epoch 3/5\n",
            "469/469 [==============================] - 2s 5ms/step - loss: 0.1641 - accuracy: 0.9649\n",
            "Epoch 4/5\n",
            "469/469 [==============================] - 3s 5ms/step - loss: 0.1510 - accuracy: 0.9686\n",
            "Epoch 5/5\n",
            "469/469 [==============================] - 2s 4ms/step - loss: 0.1270 - accuracy: 0.9692\n",
            "Training model for Group 4\n",
            "Epoch 1/5\n",
            "625/625 [==============================] - 3s 4ms/step - loss: 0.2340 - accuracy: 0.9621\n",
            "Epoch 2/5\n",
            "625/625 [==============================] - 2s 4ms/step - loss: 0.1814 - accuracy: 0.9654\n",
            "Epoch 3/5\n",
            "625/625 [==============================] - 3s 4ms/step - loss: 0.1787 - accuracy: 0.9662\n",
            "Epoch 4/5\n",
            "625/625 [==============================] - 4s 6ms/step - loss: 0.1509 - accuracy: 0.9672\n",
            "Epoch 5/5\n",
            "625/625 [==============================] - 2s 4ms/step - loss: 0.1435 - accuracy: 0.9700\n"
          ]
        }
      ],
      "source": [
        "import tensorflow as tf\n",
        "import numpy as np\n",
        "trained_models = []\n",
        "for i in range(len(split_images)):\n",
        "    print(f\"Training model for Group {i+1}\")\n",
        "    seed = np.random.randint(0, 1000)\n",
        "    tf.random.set_seed(seed)\n",
        "    model.compile(loss='sparse_categorical_crossentropy', optimizer='adam', metrics=['accuracy'])\n",
        "    model.fit(split_images[i], split_labels[i], epochs=5, batch_size=32, verbose=1)\n",
        "    trained_models.append(model)"
      ]
    },
    {
      "cell_type": "code",
      "execution_count": 23,
      "metadata": {
        "id": "6614sF8J-TCJ"
      },
      "outputs": [],
      "source": [
        "averaged_weights = []\n",
        "for layer_weights in zip(*[model.get_weights() for model in trained_models]):\n",
        "    averaged_weights.append(np.mean(layer_weights, axis=0))"
      ]
    },
    {
      "cell_type": "code",
      "execution_count": 24,
      "metadata": {
        "id": "HGfjIL0O_e5z"
      },
      "outputs": [],
      "source": [
        "model.set_weights(averaged_weights)"
      ]
    },
    {
      "cell_type": "code",
      "execution_count": 25,
      "metadata": {
        "colab": {
          "base_uri": "https://localhost:8080/"
        },
        "id": "8O-Yow5i_iYk",
        "outputId": "33f50159-0365-47ef-b9fb-cd7b22e26daf"
      },
      "outputs": [
        {
          "name": "stdout",
          "output_type": "stream",
          "text": [
            "Evaluating the averaged model\n",
            "313/313 [==============================] - 1s 2ms/step - loss: 0.6109 - accuracy: 0.9471\n",
            "Loss: 0.6109396815299988, Accuracy: 0.9470999836921692\n"
          ]
        }
      ],
      "source": [
        "print(\"Evaluating the averaged model\")\n",
        "evaluation = model.evaluate(test_images, test_labels, verbose=1)\n",
        "print(f\"Loss: {evaluation[0]}, Accuracy: {evaluation[1]}\")"
      ]
    },
    {
      "cell_type": "markdown",
      "metadata": {},
      "source": [
        "## Shared Seeding"
      ]
    },
    {
      "cell_type": "code",
      "execution_count": 26,
      "metadata": {
        "id": "XhJpSbDC_r6W"
      },
      "outputs": [],
      "source": [
        "seed = np.random.randint(0, 1000)\n",
        "tf.random.set_seed(seed)"
      ]
    },
    {
      "cell_type": "code",
      "execution_count": 27,
      "metadata": {
        "colab": {
          "base_uri": "https://localhost:8080/"
        },
        "id": "RoiZOdul_zdk",
        "outputId": "461506d2-33e5-4171-f83a-370f91462f52"
      },
      "outputs": [
        {
          "name": "stdout",
          "output_type": "stream",
          "text": [
            "Training model for Group 1\n",
            "Epoch 1/5\n",
            "157/157 [==============================] - 1s 5ms/step - loss: 0.1375 - accuracy: 0.9776\n",
            "Epoch 2/5\n",
            "157/157 [==============================] - 1s 4ms/step - loss: 0.0932 - accuracy: 0.9816\n",
            "Epoch 3/5\n",
            "157/157 [==============================] - 1s 4ms/step - loss: 0.0639 - accuracy: 0.9842\n",
            "Epoch 4/5\n",
            "157/157 [==============================] - 1s 4ms/step - loss: 0.0708 - accuracy: 0.9846\n",
            "Epoch 5/5\n",
            "157/157 [==============================] - 1s 4ms/step - loss: 0.0754 - accuracy: 0.9832\n",
            "Training model for Group 2\n",
            "Epoch 1/5\n",
            "313/313 [==============================] - 3s 7ms/step - loss: 0.1429 - accuracy: 0.9764\n",
            "Epoch 2/5\n",
            "313/313 [==============================] - 1s 5ms/step - loss: 0.1460 - accuracy: 0.9759\n",
            "Epoch 3/5\n",
            "313/313 [==============================] - 1s 4ms/step - loss: 0.0713 - accuracy: 0.9828\n",
            "Epoch 4/5\n",
            "313/313 [==============================] - 1s 4ms/step - loss: 0.0707 - accuracy: 0.9837\n",
            "Epoch 5/5\n",
            "313/313 [==============================] - 1s 4ms/step - loss: 0.0794 - accuracy: 0.9840\n",
            "Training model for Group 3\n",
            "Epoch 1/5\n",
            "469/469 [==============================] - 3s 4ms/step - loss: 0.1701 - accuracy: 0.9741\n",
            "Epoch 2/5\n",
            "469/469 [==============================] - 2s 4ms/step - loss: 0.1061 - accuracy: 0.9785\n",
            "Epoch 3/5\n",
            "469/469 [==============================] - 3s 6ms/step - loss: 0.1178 - accuracy: 0.9759\n",
            "Epoch 4/5\n",
            "469/469 [==============================] - 2s 5ms/step - loss: 0.1082 - accuracy: 0.9768\n",
            "Epoch 5/5\n",
            "469/469 [==============================] - 2s 4ms/step - loss: 0.1045 - accuracy: 0.9779\n",
            "Training model for Group 4\n",
            "Epoch 1/5\n",
            "625/625 [==============================] - 3s 4ms/step - loss: 0.2000 - accuracy: 0.9711\n",
            "Epoch 2/5\n",
            "625/625 [==============================] - 2s 4ms/step - loss: 0.1303 - accuracy: 0.9749\n",
            "Epoch 3/5\n",
            "625/625 [==============================] - 3s 4ms/step - loss: 0.1522 - accuracy: 0.9722\n",
            "Epoch 4/5\n",
            "625/625 [==============================] - 4s 6ms/step - loss: 0.1369 - accuracy: 0.9732\n",
            "Epoch 5/5\n",
            "625/625 [==============================] - 2s 4ms/step - loss: 0.1456 - accuracy: 0.9731\n"
          ]
        }
      ],
      "source": [
        "trained_models = []\n",
        "for i in range(len(split_images)):\n",
        "    print(f\"Training model for Group {i+1}\")\n",
        "    model.compile(loss='sparse_categorical_crossentropy', optimizer='adam', metrics=['accuracy'])\n",
        "    model.fit(split_images[i], split_labels[i], epochs=5, batch_size=32, verbose=1)\n",
        "    trained_models.append(model)"
      ]
    },
    {
      "cell_type": "code",
      "execution_count": 28,
      "metadata": {
        "id": "8x6PJswR_6Gz"
      },
      "outputs": [],
      "source": [
        "averaged_weights = []\n",
        "for layer_weights in zip(*[model.get_weights() for model in trained_models]):\n",
        "    averaged_weights.append(np.mean(layer_weights, axis=0))"
      ]
    },
    {
      "cell_type": "code",
      "execution_count": 29,
      "metadata": {
        "id": "nFSzf6YS_9XQ"
      },
      "outputs": [],
      "source": [
        "model.set_weights(averaged_weights)"
      ]
    },
    {
      "cell_type": "code",
      "execution_count": 30,
      "metadata": {
        "colab": {
          "base_uri": "https://localhost:8080/"
        },
        "id": "jSHzNeN8AAtl",
        "outputId": "0d2de61c-289a-4847-9ef0-19bd823917c2"
      },
      "outputs": [
        {
          "name": "stdout",
          "output_type": "stream",
          "text": [
            "Evaluating the averaged model\n",
            "313/313 [==============================] - 1s 2ms/step - loss: 0.9034 - accuracy: 0.9503\n",
            "Loss: 0.9033692479133606, Accuracy: 0.9502999782562256\n"
          ]
        }
      ],
      "source": [
        "print(\"Evaluating the averaged model\")\n",
        "evaluation = model.evaluate(test_images, test_labels, verbose=1)\n",
        "print(f\"Loss: {evaluation[0]}, Accuracy: {evaluation[1]}\")"
      ]
    }
  ],
  "metadata": {
    "colab": {
      "provenance": []
    },
    "kernelspec": {
      "display_name": "Python 3",
      "name": "python3"
    },
    "language_info": {
      "name": "python"
    }
  },
  "nbformat": 4,
  "nbformat_minor": 0
}
